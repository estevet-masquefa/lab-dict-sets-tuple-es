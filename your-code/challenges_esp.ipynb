{
 "cells": [
  {
   "cell_type": "markdown",
   "metadata": {},
   "source": [
    "## Desafío 1: Tuplas\n",
    "\n",
    "#### ¿Sabías que puedes crear tuplas con solo un elemento?\n",
    "\n",
    "**En la celda de abajo, define una variable `tup` con un único elemento `\"I\"`.**"
   ]
  },
  {
   "cell_type": "code",
   "execution_count": 24,
   "metadata": {},
   "outputs": [],
   "source": [
    "# Per tal que Python entengui que és una tupla cal afegir la coma després de l'element.\n",
    "tup = (\"I\",)"
   ]
  },
  {
   "cell_type": "markdown",
   "metadata": {},
   "source": [
    "#### Imprime el tipo de `tup`.\n",
    "\n",
    "Asegúrate de que su tipo sea correcto (es decir, *tuple* en lugar de *str*)."
   ]
  },
  {
   "cell_type": "code",
   "execution_count": 26,
   "metadata": {},
   "outputs": [
    {
     "data": {
      "text/plain": [
       "tuple"
      ]
     },
     "execution_count": 26,
     "metadata": {},
     "output_type": "execute_result"
    }
   ],
   "source": [
    "type(tup)"
   ]
  },
  {
   "cell_type": "markdown",
   "metadata": {},
   "source": [
    "#### Ahora intenta agregar los siguientes elementos a `tup`.\n",
    "\n",
    "¿Puedes hacerlo? Explica.\n",
    "\n",
    "```\n",
    "\"r\", \"o\", \"n\", \"h\", \"a\", \"c\", \"k',\n",
    "```"
   ]
  },
  {
   "cell_type": "code",
   "execution_count": 36,
   "metadata": {
    "scrolled": true
   },
   "outputs": [
    {
     "ename": "IndentationError",
     "evalue": "expected an indented block after 'for' statement on line 1 (4155850679.py, line 2)",
     "output_type": "error",
     "traceback": [
      "\u001b[1;36m  Cell \u001b[1;32mIn[36], line 2\u001b[1;36m\u001b[0m\n\u001b[1;33m    tup(i) = (\"r\", \"o\", \"n\", \"h\", \"a\", \"c\", \"k\",)\u001b[0m\n\u001b[1;37m    ^\u001b[0m\n\u001b[1;31mIndentationError\u001b[0m\u001b[1;31m:\u001b[0m expected an indented block after 'for' statement on line 1\n"
     ]
    }
   ],
   "source": [
    "for i in range(1,8) :\n",
    "tup(i) = (\"r\", \"o\", \"n\", \"h\", \"a\", \"c\", \"k\",)\n",
    "\n",
    "# Les tuples són inmutables, per tant no podem afegir elements. D'intentar-ho podriem fer-ho mitjançant un 'for' que parteixi de la posició 1\n",
    "# (la 0 és la \"I\") i intenti afegir els elements de l'enunciat des de la posició 1 a la posició 7 (per això el rang acaba en 8)"
   ]
  },
  {
   "cell_type": "markdown",
   "metadata": {},
   "source": [
    "#### ¿Qué tal si reasignas un nuevo valor a una tupla existente?\n",
    "\n",
    "Reasigna los siguientes elementos a `tup`. ¿Puedes hacerlo? Explica.\n",
    "\n",
    "```\n",
    "\"I\", \"r\", \"o\", \"n\", \"h\", \"a\", \"c\", \"k\"\n",
    "```"
   ]
  },
  {
   "cell_type": "code",
   "execution_count": 46,
   "metadata": {},
   "outputs": [
    {
     "name": "stdout",
     "output_type": "stream",
     "text": [
      "<class 'tuple'>\n",
      "('I', 'r', 'o', 'n', 'h', 'a', 'c', 'k')\n"
     ]
    }
   ],
   "source": [
    "# No hi ha cap problema en fer una reassignació \"a mà\" dels elements de la tupla, però a efectes pràctics és com crear-ne una de nova.\n",
    "\n",
    "tup = (\"I\", \"r\", \"o\", \"n\", \"h\", \"a\", \"c\", \"k\")\n",
    "print(type(tup))\n",
    "print(tup)"
   ]
  },
  {
   "cell_type": "markdown",
   "metadata": {},
   "source": [
    "#### Divide `tup` en `tup1` y `tup2` con 4 elementos en cada una.\n",
    "\n",
    "`tup1` debe ser `(\"I\", \"r\", \"o\", \"n\")` y `tup2` debe ser `(\"h\", \"a\", \"c\", \"k\")`.\n",
    "\n",
    "*Sugerencia: usa números de índice positivos para la asignación de `tup1` y números de índice negativos para la asignación de `tup2`. Los números de índice positivos cuentan desde el principio, mientras que los números de índice negativos cuentan desde el final de la secuencia.*\n",
    "\n",
    "También imprime `tup1` y `tup2`."
   ]
  },
  {
   "cell_type": "code",
   "execution_count": 80,
   "metadata": {},
   "outputs": [
    {
     "name": "stdout",
     "output_type": "stream",
     "text": [
      "tup1 = ('I', 'r', 'o', 'n')\n",
      "tup2 = ('h', 'a', 'c', 'k')\n"
     ]
    }
   ],
   "source": [
    "# Usem slicing per a crear les noves tuples\n",
    "tup1 = tup[0:4] # començant pel principi, definim tup1 amb els 4 primers elements de tup\n",
    "tup2 = tup[-4:] # començant pel final definim tup2 amb els 4 darrers elements de tup\n",
    "print(f\"tup1 = {tup1}\")\n",
    "print(f\"tup2 = {tup2}\")"
   ]
  },
  {
   "cell_type": "markdown",
   "metadata": {},
   "source": [
    "#### Suma `tup1` y `tup2` en `tup3` usando el operador `+`.\n",
    "\n",
    "Luego imprime `tup3` y verifica si `tup3` es igual a `tup`."
   ]
  },
  {
   "cell_type": "code",
   "execution_count": 82,
   "metadata": {},
   "outputs": [
    {
     "name": "stdout",
     "output_type": "stream",
     "text": [
      "tup = ('I', 'r', 'o', 'n', 'h', 'a', 'c', 'k')\n",
      "tup3 = ('I', 'r', 'o', 'n', 'h', 'a', 'c', 'k')\n"
     ]
    },
    {
     "data": {
      "text/plain": [
       "False"
      ]
     },
     "execution_count": 82,
     "metadata": {},
     "output_type": "execute_result"
    }
   ],
   "source": [
    "tup3 = tup1 + tup2\n",
    "print(f\"tup = {tup}\")\n",
    "print(f\"tup3 = {tup3}\")\n",
    "tup1 == tup3 # amb l'operador == verifiquem si tup1 és igual a tup3, el resultat esperat serà True o False."
   ]
  },
  {
   "cell_type": "markdown",
   "metadata": {},
   "source": [
    "#### Cuenta el número de elementos en `tup1` y `tup2`. Luego suma los dos conteos y verifica si la suma es igual al número de elementos en `tup3`."
   ]
  },
  {
   "cell_type": "code",
   "execution_count": 96,
   "metadata": {},
   "outputs": [
    {
     "name": "stdout",
     "output_type": "stream",
     "text": [
      "La longitud de tup1 és: 4\n",
      "La longitud de tup2 és: 4\n",
      "La longitud de tup és: 8\n",
      "La suma de la longitud de tup1 i la de tup2 és: 8\n",
      "La longitud de tup coincideix amb la suma de les longituds de tup1 i tup2\n"
     ]
    }
   ],
   "source": [
    "# comptar els elements equival a saber la longitud (len)\n",
    "long_tup1 = len(tup1)\n",
    "long_tup2 = len(tup2)\n",
    "long_tup = len(tup)\n",
    "print(f\"La longitud de tup1 és: {long_tup1}\")\n",
    "print(f\"La longitud de tup2 és: {long_tup2}\")\n",
    "print(f\"La longitud de tup és: {long_tup}\")\n",
    "suma = long_tup1 + long_tup2\n",
    "print(f\"La suma de la longitud de tup1 i la de tup2 és: {suma}\")\n",
    "if suma == long_tup : # a semblança de l'exercici anterior podriem usar alternativament == i esperar True o False però amb un if queda més elegant.\n",
    "    print(\"La longitud de tup coincideix amb la suma de les longituds de tup1 i tup2\")\n",
    "else :\n",
    "    print(\"La longitud de tup no coincideix amb la suma de les longituds de tup1 i tup2\")\n",
    "    "
   ]
  },
  {
   "cell_type": "markdown",
   "metadata": {},
   "source": [
    "#### ¿Cuál es el número de índice de `\"h\"` en `tup3`?"
   ]
  },
  {
   "cell_type": "code",
   "execution_count": 100,
   "metadata": {},
   "outputs": [
    {
     "name": "stdout",
     "output_type": "stream",
     "text": [
      "L'índex de 'h' dintre de tup3 és: 4\n"
     ]
    }
   ],
   "source": [
    "# Per saber l'índex d'un element d'una tupla podem fer servir index\n",
    "resposta = tup3.index(\"h\")\n",
    "print(f\"L'índex de 'h' dintre de tup3 és: {resposta}\")"
   ]
  },
  {
   "cell_type": "markdown",
   "metadata": {},
   "source": [
    "#### Ahora, usa un bucle FOR para verificar si cada letra en la siguiente lista está presente en `tup3`:\n",
    "\n",
    "\n",
    "```\n",
    "letters = [\"a\", \"b\", \"c\", \"d\", \"e\"]\n",
    "```\n",
    "\n",
    "\n",
    "Para cada letra que verifiques, imprime `True` si está presente en `tup3`, de lo contrario imprime `False`.\n",
    "\n",
    "*Sugerencia: solo necesitas hacer un bucle con `letters`. No necesitas hacer un bucle con `tup3` porque hay un operador de Python `in` que puedes usar. Consulta la [referencia](https://stackoverflow.com/questions/17920147/how-to-check-if-a-tuple-contains-an-element-in-python).*"
   ]
  },
  {
   "cell_type": "code",
   "execution_count": 122,
   "metadata": {},
   "outputs": [
    {
     "name": "stdout",
     "output_type": "stream",
     "text": [
      "La lletra a és dintre la tupla ('I', 'r', 'o', 'n', 'h', 'a', 'c', 'k'), per tant: True\n",
      "La lletra b no és dintre la tupla ('I', 'r', 'o', 'n', 'h', 'a', 'c', 'k'), per tant: False\n",
      "La lletra c és dintre la tupla ('I', 'r', 'o', 'n', 'h', 'a', 'c', 'k'), per tant: True\n",
      "La lletra d no és dintre la tupla ('I', 'r', 'o', 'n', 'h', 'a', 'c', 'k'), per tant: False\n",
      "La lletra e no és dintre la tupla ('I', 'r', 'o', 'n', 'h', 'a', 'c', 'k'), per tant: False\n"
     ]
    }
   ],
   "source": [
    "letters = [\"a\", \"b\", \"c\", \"d\", \"e\"]\n",
    "for i in range(len(letters)) : # fem un bucle determinat per la mida de la llista letters\n",
    "    if letters[i] in tup3 : # mirem si l'element de la llista és o no a la tupla\n",
    "        print (f\"La lletra {letters[i]} és dintre la tupla {tup3}, per tant: True\") # per tal de veure ràpidament i fàcil si el codi fa el que es demana\n",
    "    else :\n",
    "        print (f\"La lletra {letters[i]} no és dintre la tupla {tup3}, per tant: False\")"
   ]
  },
  {
   "cell_type": "markdown",
   "metadata": {},
   "source": [
    "#### ¿Cuántas veces aparece cada letra de `letters` en `tup3`?\n",
    "\n",
    "Imprime el número de ocurrencias de cada letra."
   ]
  },
  {
   "cell_type": "code",
   "execution_count": 132,
   "metadata": {},
   "outputs": [
    {
     "name": "stdout",
     "output_type": "stream",
     "text": [
      "La lletra a és dintre la tupla ('I', 'r', 'o', 'n', 'h', 'a', 'c', 'k') i hi apareix 1 cops\n",
      "La lletra b no és dintre la tupla ('I', 'r', 'o', 'n', 'h', 'a', 'c', 'k'), per tant apareix 0 cops\n",
      "La lletra c és dintre la tupla ('I', 'r', 'o', 'n', 'h', 'a', 'c', 'k') i hi apareix 1 cops\n",
      "La lletra d no és dintre la tupla ('I', 'r', 'o', 'n', 'h', 'a', 'c', 'k'), per tant apareix 0 cops\n",
      "La lletra e no és dintre la tupla ('I', 'r', 'o', 'n', 'h', 'a', 'c', 'k'), per tant apareix 0 cops\n"
     ]
    }
   ],
   "source": [
    "letters = [\"a\", \"b\", \"c\", \"d\", \"e\"]\n",
    "for i in range(len(letters)) :\n",
    "    num = 0\n",
    "    if letters[i] in tup3 : \n",
    "        num = num + 1\n",
    "        print (f\"La lletra {letters[i]} és dintre la tupla {tup3} i hi apareix {num} cops\")\n",
    "    else :\n",
    "        print (f\"La lletra {letters[i]} no és dintre la tupla {tup3}, per tant apareix {num} cops\")"
   ]
  },
  {
   "cell_type": "markdown",
   "metadata": {},
   "source": [
    "## Desafío 2: Conjuntos\n",
    "\n",
    "Hay mucho que aprender sobre los Conjuntos en Python y la información presentada en la lección es limitada debido a su longitud. Para aprender a fondo sobre los Conjuntos en Python, te recomendamos encarecidamente que revises el tutorial de W3Schools sobre [Ejemplos y Métodos de Conjuntos en Python](https://www.w3schools.com/python/python_sets.asp) antes de trabajar en este laboratorio. Algunas preguntas difíciles de este laboratorio tienen sus soluciones en el tutorial de W3Schools.\n",
    "\n",
    "#### Primero, importa la biblioteca `random` de Python."
   ]
  },
  {
   "cell_type": "code",
   "execution_count": 134,
   "metadata": {},
   "outputs": [],
   "source": [
    "import random"
   ]
  },
  {
   "cell_type": "markdown",
   "metadata": {},
   "source": [
    "#### En la celda de abajo, crea una lista llamada `sample_list_1` con 80 valores aleatorios.\n",
    "\n",
    "Requisitos:\n",
    "\n",
    "* Cada valor es un entero entre 0 y 100.\n",
    "* Cada valor en la lista es único.\n",
    "\n",
    "Imprime `sample_list_1` para revisar sus valores.\n",
    "\n",
    "*Sugerencia: usa `random.sample` ([referencia](https://docs.python.org/3/library/random.html#random.sample)).*"
   ]
  },
  {
   "cell_type": "code",
   "execution_count": 228,
   "metadata": {},
   "outputs": [
    {
     "name": "stdout",
     "output_type": "stream",
     "text": [
      "[85, 83, 48, 17, 40, 31, 51, 64, 10, 9, 54, 45, 25, 88, 15, 11, 77, 69, 18, 22, 65, 32, 99, 49, 87, 96, 16, 74, 7, 39, 24, 60, 29, 75, 44, 14, 68, 95, 38, 42, 97, 52, 13, 12, 92, 6, 26, 50, 8, 30, 82, 56, 43, 59, 67, 47, 28, 21, 66, 27, 58, 70, 93, 23, 1, 4, 71, 81, 62, 91, 53, 73, 89, 33, 72, 0, 41, 36, 80, 34]\n"
     ]
    }
   ],
   "source": [
    "sample_list_1 = [] # definim la llista\n",
    "interval = range(0, 100) # definim l'interval que haurem de fer servir per a la funció random.sample\n",
    "sample_list_1 = random.sample(interval, 80) # ara afegim 80 elements aleatoris únics a la llista que estaran entre 0 i 100 perquè és com hem definit l'inteval\n",
    "print(sample_list_1)\n",
    "\n"
   ]
  },
  {
   "cell_type": "code",
   "execution_count": 230,
   "metadata": {},
   "outputs": [],
   "source": [
    "# exemple 1: [78, 82, 42, 65, 63, 41, 91, 9, 60, 79, 40, 76, 55, 57, 37, 95, 15, 70, 83, 30, 12, 53, 85, 6, 27, 18, 51, 34, 33, 75, 10, 5, 94, 49, 44, 21, 50, 98, 32, 87, 73, 2, 86, 52, 81, 1, 39, 67, 38, 14, 77, 64, 89, 62, 46, 23, 93, 45, 88, 11, 19, 35, 26, 24, 84, 72, 96, 92, 25, 97, 22, 28, 66, 4, 16, 47, 0, 29, 43, 36]\n",
    "# exemple 2: [19, 43, 31, 38, 99, 4, 57, 73, 78, 71, 81, 77, 20, 52, 84, 75, 2, 14, 46, 35, 70, 37, 91, 67, 5, 94, 97, 51, 79, 49, 3, 47, 41, 26, 66, 90, 27, 40, 68, 92, 88, 59, 21, 22, 89, 62, 6, 53, 48, 33, 29, 64, 72, 96, 16, 74, 65, 0, 1, 93, 42, 44, 61, 10, 50, 15, 56, 28, 8, 25, 82, 54, 24, 18, 98, 12, 87, 17, 45, 23]"
   ]
  },
  {
   "cell_type": "markdown",
   "metadata": {},
   "source": [
    "#### Convierte `sample_list_1` en un conjunto llamado `set1`. Imprime la longitud del conjunto. ¿Su longitud sigue siendo 80?"
   ]
  },
  {
   "cell_type": "code",
   "execution_count": 203,
   "metadata": {},
   "outputs": [
    {
     "name": "stdout",
     "output_type": "stream",
     "text": [
      "{3, 4, 5, 6, 7, 8, 9, 10, 11, 12, 13, 14, 15, 16, 17, 18, 19, 20, 22, 24, 25, 26, 28, 29, 30, 31, 32, 33, 34, 35, 38, 39, 40, 41, 42, 43, 44, 45, 47, 48, 49, 50, 51, 52, 53, 54, 55, 56, 57, 58, 59, 60, 61, 62, 63, 64, 66, 67, 68, 70, 71, 72, 74, 75, 76, 77, 78, 79, 81, 82, 83, 84, 87, 88, 91, 93, 94, 95, 97, 98}\n",
      "El tipus de set1 és: <class 'set'>\n",
      "La longitud de set1 és de: 80\n"
     ]
    }
   ],
   "source": [
    "set1 = ()\n",
    "set1 = set(sample_list_1) # creem un conjunt (set) a partir de la llista sample_list_1\n",
    "print(set1)\n",
    "tipus = type(set1)\n",
    "print(f\"El tipus de set1 és: {tipus}\")\n",
    "print(f\"La longitud de set1 és de: {len(set1)}\")"
   ]
  },
  {
   "cell_type": "markdown",
   "metadata": {},
   "source": [
    "#### Crea otra lista llamada `sample_list_2` con 80 valores aleatorios.\n",
    "\n",
    "Requisitos:\n",
    "\n",
    "* Cada valor es un entero entre 0 y 100.\n",
    "* Los valores en la lista no tienen que ser únicos.\n",
    "\n",
    "*Sugerencia: Usa un bucle FOR.*"
   ]
  },
  {
   "cell_type": "code",
   "execution_count": 233,
   "metadata": {},
   "outputs": [
    {
     "name": "stdout",
     "output_type": "stream",
     "text": [
      "[83, 20, 7, 52, 7, 74, 72, 97, 71, 20, 97, 2, 73, 91, 43, 59, 57, 57, 62, 43, 26, 53, 93, 14, 3, 38, 11, 49, 37, 31, 13, 32, 57, 59, 2, 15, 85, 75, 91, 89, 65, 76, 19, 43, 27, 3, 57, 82, 38, 22, 48, 75, 51, 91, 80, 13, 66, 45, 79, 75, 50, 75, 57, 17, 74, 57, 29, 41, 92, 72, 58, 75, 46, 93, 37, 22, 36, 22, 97, 63]\n"
     ]
    }
   ],
   "source": [
    "sample_list_2 = [] # definim la nova llista\n",
    "\n",
    "for i in range(0,80) : # definim un bucle de 80 iteracions\n",
    "    num = random.randint(0,100) # creem un número aleatori natural entre 0 i 100 (ambdòs inclosos)\n",
    "    sample_list_2.append(num) # afegim el número creat a la llista\n",
    "\n",
    "print(sample_list_2)"
   ]
  },
  {
   "cell_type": "code",
   "execution_count": null,
   "metadata": {},
   "outputs": [],
   "source": [
    "# Exemple 1: [39, 18, 26, 67, 84, 31, 48, 51, 37, 31, 82, 33, 58, 14, 64, 57, 92, 20, 88, 82, 56, 12, 43, 18, 46, 24, 42, 66, 76, 14, 65, 26, 44, 39, 67, 6, 40, 81, 1, 37, 100, 61, 37, 100, 92, 69, 40, 27, 70, 15, 6, 17, 90, 29, 1, 41, 32, 53, 57, 1, 19, 71, 50, 42, 84, 21, 14, 39, 59, 91, 66, 97, 24, 87, 21, 85, 64, 13, 25, 21]\n",
    "# Exemple 2: [59, 97, 41, 87, 57, 1, 95, 92, 93, 28, 69, 44, 18, 37, 6, 91, 68, 46, 18, 100, 45, 41, 9, 15, 48, 43, 4, 10, 10, 54, 20, 10, 47, 60, 79, 31, 20, 95, 17, 97, 4, 68, 14, 97, 49, 71, 66, 59, 86, 52, 7, 88, 32, 88, 99, 16, 1, 40, 36, 68, 21, 80, 59, 61, 1, 79, 89, 19, 99, 38, 96, 78, 48, 88, 71, 10, 74, 53, 65, 27]"
   ]
  },
  {
   "cell_type": "markdown",
   "metadata": {},
   "source": [
    "#### Convierte `sample_list_2` en un conjunto llamado `set2`. Imprime la longitud del conjunto. ¿Su longitud sigue siendo 80?"
   ]
  },
  {
   "cell_type": "code",
   "execution_count": 235,
   "metadata": {},
   "outputs": [
    {
     "name": "stdout",
     "output_type": "stream",
     "text": [
      "{2, 3, 7, 11, 13, 14, 15, 17, 19, 20, 22, 26, 27, 29, 31, 32, 36, 37, 38, 41, 43, 45, 46, 48, 49, 50, 51, 52, 53, 57, 58, 59, 62, 63, 65, 66, 71, 72, 73, 74, 75, 76, 79, 80, 82, 83, 85, 89, 91, 92, 93, 97}\n",
      "El tipus de set2 és: <class 'set'>\n",
      "La longitud de set2 és de: 52\n"
     ]
    }
   ],
   "source": [
    "set2 = set()\n",
    "set2 = set(sample_list_2) # creem un conjunt (set) a partir de la llista sample_list_2\n",
    "print(set2)\n",
    "tipus = type(set2)\n",
    "print(f\"El tipus de set2 és: {tipus}\")\n",
    "print(f\"La longitud de set2 és de: {len(set2)}\")"
   ]
  },
  {
   "cell_type": "code",
   "execution_count": null,
   "metadata": {},
   "outputs": [],
   "source": [
    "# Exemple 1: {1, 4, 6, 7, 9, 10, 14, 15, 16, 17, 18, 19, 20, 21, 27, 28, 31, 32, 36, 37, 38, 40, 41, 43, 44, 45, 46, 47, 48, 49, 52, 53, 54, 57, 59, 60, 61, 65, 66, 68, 69, 71, 74, 78, 79, 80, 86, 87, 88, 89, 91, 92, 93, 95, 96, 97, 99, 100}\n",
    "# El tipus de set2 és: <class 'set'>\n",
    "# La longitud de set2 és de: 58\n",
    "\n",
    "# Exemple 2: {0, 1, 2, 6, 12, 14, 15, 18, 19, 20, 21, 25, 26, 27, 28, 30, 32, 33, 34, 37, 40, 41, 43, 45, 48, 49, 50, 51, 54, 57, 60, 62, 63, 65, 68, 69, 71, 72, 74, 76, 77, 79, 81, 83, 84, 85, 88, 89, 92, 94, 96, 98, 99, 100}\n",
    "# El tipus de set2 és: <class 'set'>\n",
    "# La longitud de set2 és de: 54"
   ]
  },
  {
   "cell_type": "code",
   "execution_count": null,
   "metadata": {},
   "outputs": [],
   "source": [
    "# Els conjunts no permeten elements duplicats, per tant no podem esperar que la longitud de la llista i del conjunt sigui la mateixa.\n",
    "# De fet, la longitud de la llista sempre serà de 80 però la del conjunt pot variar cada vegada que generem una llista nova i la transformem\n",
    "# en un conjunt perquè el nombre d'elements repetits a la llista depèn de l'atzar."
   ]
  },
  {
   "cell_type": "markdown",
   "metadata": {},
   "source": [
    "#### Identifica los elementos presentes en `set1` pero no en `set2`. Asigna los elementos a un nuevo conjunto llamado `set3`."
   ]
  },
  {
   "cell_type": "code",
   "execution_count": 237,
   "metadata": {},
   "outputs": [
    {
     "name": "stdout",
     "output_type": "stream",
     "text": [
      "El conjunt diferència entre el conjunt set1 i el conjunt set2 és: {4, 5, 6, 8, 9, 10, 12, 16, 18, 24, 25, 28, 30, 33, 34, 35, 39, 40, 42, 44, 47, 54, 55, 56, 60, 61, 64, 67, 68, 70, 77, 78, 81, 84, 87, 88, 94, 95, 98} i està format pels elements de set1 que no pertanyen a set2\n",
      "I conté: 39 elements\n"
     ]
    }
   ],
   "source": [
    "set3 = set() # definim el conjunt set3, buit de moment.\n",
    "set3 = set1 - set2 # calculem set3 com set1 \\ set2 (en teoria de conjunts)\n",
    "print(f\"El conjunt diferència entre el conjunt set1 i el conjunt set2 és: {set3} i està format pels elements de set1 que no pertanyen a set2\")\n",
    "print(f\"I conté: {len(set3)} elements\")"
   ]
  },
  {
   "cell_type": "markdown",
   "metadata": {},
   "source": [
    "#### Identifica los elementos presentes en `set2` pero no en `set1`. Asigna los elementos a un nuevo conjunto llamado `set4`."
   ]
  },
  {
   "cell_type": "code",
   "execution_count": 239,
   "metadata": {},
   "outputs": [
    {
     "name": "stdout",
     "output_type": "stream",
     "text": [
      "El conjunt diferència entre el conjunt set2 i el conjunt set1 és: {65, 2, 36, 37, 73, 46, 80, 85, 89, 27, 92} i està format pels elements de set2 que no pertanyen a set1\n",
      "I conté: 11 elements\n"
     ]
    }
   ],
   "source": [
    "set4 = set() # definim el conjunt set4, buit de moment\n",
    "set4 = set2 - set1 # ara calculem set4 com set2 \\ set1\n",
    "print(f\"El conjunt diferència entre el conjunt set2 i el conjunt set1 és: {set4} i està format pels elements de set2 que no pertanyen a set1\")\n",
    "print(f\"I conté: {len(set4)} elements\")"
   ]
  },
  {
   "cell_type": "markdown",
   "metadata": {},
   "source": [
    "#### Ahora identifica los elementos compartidos entre `set1` y `set2`. Asigna los elementos a un nuevo conjunto llamado `set5`."
   ]
  },
  {
   "cell_type": "code",
   "execution_count": 241,
   "metadata": {},
   "outputs": [
    {
     "name": "stdout",
     "output_type": "stream",
     "text": [
      "El conjunt intersecció entre el conjunt set1 i el conjunt set2 és: {3, 7, 11, 13, 14, 15, 17, 19, 20, 22, 26, 29, 31, 32, 38, 41, 43, 45, 48, 49, 50, 51, 52, 53, 57, 58, 59, 62, 63, 66, 71, 72, 74, 75, 76, 79, 82, 83, 91, 93, 97} i està format pels elements de set1 que també pertanyen a set2\n",
      "I conté: 41 elements\n"
     ]
    }
   ],
   "source": [
    "set5 = set() # definim el conjunt set5, buit de moment\n",
    "set5 = set1 & set2 # ara calculem set5 com la interesecció de set1 i set2\n",
    "print(f\"El conjunt intersecció entre el conjunt set1 i el conjunt set2 és: {set5} i està format pels elements de set1 que també pertanyen a set2\")\n",
    "print(f\"I conté: {len(set5)} elements\")"
   ]
  },
  {
   "cell_type": "markdown",
   "metadata": {},
   "source": [
    "#### ¿Cuál es la relación entre los siguientes valores?\n",
    "\n",
    "* len(set1)\n",
    "* len(set2)\n",
    "* len(set3)\n",
    "* len(set4)\n",
    "* len(set5)\n",
    "\n",
    "Usa una fórmula matemática para representar esa relación. Prueba tu fórmula con código Python."
   ]
  },
  {
   "cell_type": "code",
   "execution_count": 243,
   "metadata": {},
   "outputs": [
    {
     "name": "stdout",
     "output_type": "stream",
     "text": [
      "El cardinal de set1 és: 80\n",
      "El cardinal de set2 és: 52\n",
      "El cardinal de set3 és: 39\n",
      "El cardinal de set4 és: 11\n",
      "El cardinal de set5 és: 41\n"
     ]
    }
   ],
   "source": [
    "print(f\"El cardinal de set1 és: {len(set1)}\")\n",
    "print(f\"El cardinal de set2 és: {len(set2)}\")\n",
    "print(f\"El cardinal de set3 és: {len(set3)}\")\n",
    "print(f\"El cardinal de set4 és: {len(set4)}\")\n",
    "print(f\"El cardinal de set5 és: {len(set5)}\")"
   ]
  },
  {
   "cell_type": "code",
   "execution_count": 247,
   "metadata": {},
   "outputs": [
    {
     "name": "stdout",
     "output_type": "stream",
     "text": [
      "El cardinal de set1 és superior o igual al cardinal de set2\n",
      "El cardinal de set3 és superior o igual al cardinal de set4\n"
     ]
    }
   ],
   "source": [
    "# No podem establir una relació matemàtica entre TOTS els cardinals d'aquests conjunts perquè la relació entre els cardinals\n",
    "# de set3, set4 i set5depèn de l'atzar (del nombre d'elements que pertanyen a tots dos conjunts alhora). Això no treu que sí que podem\n",
    "# establir relacions entre ells:\n",
    "\n",
    "# len(set1) >= len(set2) (només serà igual en el cas que la tupla generadora sample_list_2 de set 2 tingui tots els elements diferents).\n",
    "# len(set3) + len(set5) = len(set1)\n",
    "# len(set4) + len(set5) = len(set2)\n",
    "# substituïnt: len(set3) >= len(set4) (només serà igual quan set1 i set2 no tinguin cap element en comú)\n",
    "\n",
    "# Validem aquestes observacions amb els cardinals obtiguts en aquest cas:\n",
    "\n",
    "if len(set1) >= len(set2):\n",
    "    print(f\"El cardinal de set1 és superior o igual al cardinal de set2\")\n",
    "else:\n",
    "    print(f\"Hipòtesi 1 errònia!\")\n",
    "\n",
    "if len(set3) >= len(set4):\n",
    "    print(f\"El cardinal de set3 és superior o igual al cardinal de set4\")\n",
    "else:\n",
    "    print(f\"Hipòstesi 2 errònia!\")\n",
    "\n"
   ]
  },
  {
   "cell_type": "markdown",
   "metadata": {},
   "source": [
    "#### Crea un conjunto vacío llamado `set6`."
   ]
  },
  {
   "cell_type": "code",
   "execution_count": 249,
   "metadata": {},
   "outputs": [],
   "source": [
    "set6 = set()"
   ]
  },
  {
   "cell_type": "markdown",
   "metadata": {},
   "source": [
    "#### Añade `set3` y `set5` a `set6` usando el método `update` de los Conjuntos de Python."
   ]
  },
  {
   "cell_type": "code",
   "execution_count": 251,
   "metadata": {},
   "outputs": [
    {
     "name": "stdout",
     "output_type": "stream",
     "text": [
      "{3, 4, 5, 6, 7, 8, 9, 10, 11, 12, 13, 14, 15, 16, 17, 18, 19, 20, 22, 24, 25, 26, 28, 29, 30, 31, 32, 33, 34, 35, 38, 39, 40, 41, 42, 43, 44, 45, 47, 48, 49, 50, 51, 52, 53, 54, 55, 56, 57, 58, 59, 60, 61, 62, 63, 64, 66, 67, 68, 70, 71, 72, 74, 75, 76, 77, 78, 79, 81, 82, 83, 84, 87, 88, 91, 93, 94, 95, 97, 98}\n"
     ]
    }
   ],
   "source": [
    "set6 = set3.union(set5)\n",
    "print(set6)"
   ]
  },
  {
   "cell_type": "markdown",
   "metadata": {},
   "source": [
    "#### Verifica si `set1` y `set6` son iguales."
   ]
  },
  {
   "cell_type": "code",
   "execution_count": 253,
   "metadata": {},
   "outputs": [
    {
     "data": {
      "text/plain": [
       "True"
      ]
     },
     "execution_count": 253,
     "metadata": {},
     "output_type": "execute_result"
    }
   ],
   "source": [
    "set1 == set6 # verifiquem si els conjunts són iguals o no"
   ]
  },
  {
   "cell_type": "markdown",
   "metadata": {},
   "source": [
    "#### Comprueba si `set1` contiene a `set2` utilizando el método `issubset` de los Conjuntos de Python. Luego verifica si `set1` contiene a `set3`."
   ]
  },
  {
   "cell_type": "code",
   "execution_count": 259,
   "metadata": {},
   "outputs": [
    {
     "name": "stdout",
     "output_type": "stream",
     "text": [
      "set1 conté set2?: False\n",
      "set1 conté set3?: True\n"
     ]
    }
   ],
   "source": [
    "subconjunt2 = set2.issubset(set1) # mirem si set2 és subconjunt de set1\n",
    "subconjunt3 = set3.issubset(set3) # avaluem si set3 és subconjunt de set1\n",
    "print(f\"set1 conté set2?: {subconjunt2}\")\n",
    "print(f\"set1 conté set3?: {subconjunt3}\")"
   ]
  },
  {
   "cell_type": "markdown",
   "metadata": {},
   "source": [
    "#### Utilizando el método `union` de los Conjuntos de Python, agrega `set3`, `set4` y `set5`. Luego agrega `set1` y `set2`.\n",
    "\n",
    "#### Verifica si los valores agregados son iguales."
   ]
  },
  {
   "cell_type": "code",
   "execution_count": 267,
   "metadata": {},
   "outputs": [
    {
     "name": "stdout",
     "output_type": "stream",
     "text": [
      "{2, 3, 4, 5, 6, 7, 8, 9, 10, 11, 12, 13, 14, 15, 16, 17, 18, 19, 20, 22, 24, 25, 26, 27, 28, 29, 30, 31, 32, 33, 34, 35, 36, 37, 38, 39, 40, 41, 42, 43, 44, 45, 46, 47, 48, 49, 50, 51, 52, 53, 54, 55, 56, 57, 58, 59, 60, 61, 62, 63, 64, 65, 66, 67, 68, 70, 71, 72, 73, 74, 75, 76, 77, 78, 79, 80, 81, 82, 83, 84, 85, 87, 88, 89, 91, 92, 93, 94, 95, 97, 98}\n",
      "91\n",
      "{2, 3, 4, 5, 6, 7, 8, 9, 10, 11, 12, 13, 14, 15, 16, 17, 18, 19, 20, 22, 24, 25, 26, 27, 28, 29, 30, 31, 32, 33, 34, 35, 36, 37, 38, 39, 40, 41, 42, 43, 44, 45, 46, 47, 48, 49, 50, 51, 52, 53, 54, 55, 56, 57, 58, 59, 60, 61, 62, 63, 64, 65, 66, 67, 68, 70, 71, 72, 73, 74, 75, 76, 77, 78, 79, 80, 81, 82, 83, 84, 85, 87, 88, 89, 91, 92, 93, 94, 95, 97, 98}\n",
      "91\n",
      "\n",
      "El conjunt format per set3, set4 i set5 coincideix amb la unió de set1 i set2\n"
     ]
    }
   ],
   "source": [
    "set7 = set()\n",
    "set7 = set3.union(set4.union(set5))\n",
    "print(set7)\n",
    "print(len(set7))\n",
    "\n",
    "set8 = set()\n",
    "set8 = set1.union(set2)\n",
    "print(set8)\n",
    "print(len(set8))\n",
    "\n",
    "if set7 == set8 :\n",
    "    print(\"\\nEl conjunt format per set3, set4 i set5 coincideix amb la unió de set1 i set2\")\n",
    "else:\n",
    "    print(\"U(set3, set4, set5) <> U(set1, set2)\")"
   ]
  },
  {
   "cell_type": "markdown",
   "metadata": {},
   "source": [
    "#### Utilizando el método `pop`, elimina el primer elemento de `set1`."
   ]
  },
  {
   "cell_type": "code",
   "execution_count": 281,
   "metadata": {},
   "outputs": [
    {
     "name": "stdout",
     "output_type": "stream",
     "text": [
      "L'element éliminat de set1 és: 9\n",
      "{10, 11, 12, 13, 14, 15, 16, 17, 18, 19, 20, 22, 24, 25, 26, 28, 29, 30, 31, 32, 33, 34, 35, 38, 39, 40, 41, 42, 43, 44, 45, 47, 48, 49, 50, 51, 52, 53, 54, 55, 56, 57, 58, 59, 60, 61, 62, 63, 64, 66, 67, 68, 70, 71, 72, 74, 75, 76, 77, 78, 79, 81, 82, 83, 84, 87, 88, 91, 93, 94, 95, 97, 98}\n"
     ]
    }
   ],
   "source": [
    "# El mètode pop elimina un element a l'atzar, per tant no podem triar eliminar el primer element de set1.\n",
    "\n",
    "element_pop = set1.pop()\n",
    "print(f\"L'element éliminat de set1 és: {element_pop}\")\n",
    "\n",
    "# Per a eliminar el primer element cal usar \"remove\" amb el paràmetre \"n\" on n és el primer element del conjunt"
   ]
  },
  {
   "cell_type": "markdown",
   "metadata": {},
   "source": [
    "#### Elimina cada elemento en la siguiente lista de `set1` si están presentes en el conjunto. Imprime los elementos restantes.\n",
    "\n",
    "```\n",
    "list_to_remove = [1, 9, 11, 19, 21, 29, 31, 39, 41, 49, 51, 59, 61, 69, 71, 79, 81, 89, 91, 99]\n",
    "```"
   ]
  },
  {
   "cell_type": "code",
   "execution_count": 285,
   "metadata": {},
   "outputs": [
    {
     "name": "stdout",
     "output_type": "stream",
     "text": [
      "El nou conjunt és set9={10, 12, 13, 14, 15, 16, 17, 18, 20, 22, 24, 25, 26, 28, 30, 32, 33, 34, 35, 38, 40, 42, 43, 44, 45, 47, 48, 50, 52, 53, 54, 55, 56, 57, 58, 60, 62, 63, 64, 66, 67, 68, 70, 72, 74, 75, 76, 77, 78, 82, 83, 84, 87, 88, 93, 94, 95, 97, 98}\n"
     ]
    }
   ],
   "source": [
    "# Per a eliminar els elements de la llista la podem transformar en un conjunt i considerar el nou conjunt set9 = set1 \\ list_to_remove\n",
    "# que, per definició, contendrá els elements de set1 que no formen part de list_to_remove i llavors n'hi haurà prou si mostrem set9\n",
    "\n",
    "list_to_remove = [1, 9, 11, 19, 21, 29, 31, 39, 41, 49, 51, 59, 61, 69, 71, 79, 81, 89, 91, 99]\n",
    "set9 = ()\n",
    "set_list_to_remove = set(list_to_remove)\n",
    "set9 = set1 - set_list_to_remove\n",
    "print(f\"El nou conjunt és set9={set9}\")\n"
   ]
  },
  {
   "cell_type": "markdown",
   "metadata": {},
   "source": [
    "## BONUS - Desafío 3: Diccionarios\n",
    "\n",
    "En este desafío practicarás cómo manipular diccionarios en Python. Antes de empezar este desafío, te animamos a revisar los [Ejemplos y Métodos de Diccionarios en Python](https://www.w3schools.com/python/python_dictionaries.asp) de W3School.\n",
    "\n",
    "Lo primero que practicarás es cómo ordenar las claves en un diccionario. A diferencia del objeto de lista, el diccionario de Python no tiene un método *sort* incorporado. Necesitarás usar bucles FOR para ordenar los diccionarios ya sea por clave o por valor.\n",
    "\n",
    "El diccionario a continuación es un resumen de la frecuencia de palabras de la canción *Shape of You* de Ed Sheeran. Cada clave es una palabra en la letra y el valor es el número de veces que esa palabra aparece en la letra."
   ]
  },
  {
   "cell_type": "code",
   "execution_count": 287,
   "metadata": {},
   "outputs": [],
   "source": [
    "word_freq = {'love': 25, 'conversation': 1, 'every': 6, \"we're\": 1, 'plate': 1, 'sour': 1, 'jukebox': 1, 'now': 11, 'taxi': 1, 'fast': 1, 'bag': 1, 'man': 1, 'push': 3, 'baby': 14, 'going': 1, 'you': 16, \"don't\": 2, 'one': 1, 'mind': 2, 'backseat': 1, 'friends': 1, 'then': 3, 'know': 2, 'take': 1, 'play': 1, 'okay': 1, 'so': 2, 'begin': 1, 'start': 2, 'over': 1, 'body': 17, 'boy': 2, 'just': 1, 'we': 7, 'are': 1, 'girl': 2, 'tell': 1, 'singing': 2, 'drinking': 1, 'put': 3, 'our': 1, 'where': 1, \"i'll\": 1, 'all': 1, \"isn't\": 1, 'make': 1, 'lover': 1, 'get': 1, 'radio': 1, 'give': 1, \"i'm\": 23, 'like': 10, 'can': 1, 'doing': 2, 'with': 22, 'club': 1, 'come': 37, 'it': 1, 'somebody': 2, 'handmade': 2, 'out': 1, 'new': 6, 'room': 3, 'chance': 1, 'follow': 6, 'in': 27, 'may': 2, 'brand': 6, 'that': 2, 'magnet': 3, 'up': 3, 'first': 1, 'and': 23, 'pull': 3, 'of': 6, 'table': 1, 'much': 2, 'last': 3, 'i': 6, 'thrifty': 1, 'grab': 2, 'was': 2, 'driver': 1, 'slow': 1, 'dance': 1, 'the': 18, 'say': 2, 'trust': 1, 'family': 1, 'week': 1, 'date': 1, 'me': 10, 'do': 3, 'waist': 2, 'smell': 3, 'day': 6, 'although': 3, 'your': 21, 'leave': 1, 'want': 2, \"let's\": 2, 'lead': 6, 'at': 1, 'hand': 1, 'how': 1, 'talk': 4, 'not': 2, 'eat': 1, 'falling': 3, 'about': 1, 'story': 1, 'sweet': 1, 'best': 1, 'crazy': 2, 'let': 1, 'too': 5, 'van': 1, 'shots': 1, 'go': 2, 'to': 2, 'a': 8, 'my': 33, 'is': 5, 'place': 1, 'find': 1, 'shape': 6, 'on': 40, 'kiss': 1, 'were': 3, 'night': 3, 'heart': 3, 'for': 3, 'discovering': 6, 'something': 6, 'be': 16, 'bedsheets': 3, 'fill': 2, 'hours': 2, 'stop': 1, 'bar': 1}"
   ]
  },
  {
   "cell_type": "markdown",
   "metadata": {},
   "source": [
    "#### Ordena las claves de `word_freq` de forma ascendente.\n",
    "\n",
    "Por favor, crea un nuevo diccionario llamado `word_freq2` basado en `word_freq` con las claves ordenadas de forma ascendente.\n",
    "\n",
    "Hay varias formas de lograr ese objetivo, pero muchas de ellas van más allá de lo que hemos cubierto hasta ahora en el curso. Hay una forma que describiremos empleando lo que has aprendido. Por favor, siéntete libre de usar esta forma o cualquier otra que desees.\n",
    "\n",
    "1. Primero extrae las claves de `word_freq` y conviértelas en una lista llamada `keys`.\n",
    "\n",
    "1. Ordena la lista `keys`.\n",
    "\n",
    "1. Crea un diccionario vacío `word_freq2`.\n",
    "\n",
    "1. Usa un bucle FOR para iterar cada valor en `keys`. Para cada clave iterada, encuentra el valor correspondiente en `word_freq` e inserta el par clave-valor en `word_freq2`.\n",
    "\n",
    "📖 [Documentación para un bucle for](https://docs.python.org/3/reference/compound_stmts.html#for)\n",
    "\n",
    "Imprime `word_freq2` para examinar sus claves y valores. Tu salida debería ser:\n",
    "\n",
    "```python\n",
    "{'a': 8, 'about': 1, 'all': 1, 'although': 3, 'and': 23, 'are': 1, 'at': 1, 'baby': 14, 'backseat': 1, 'bag': 1, 'bar': 1, 'be': 16, 'bedsheets': 3, 'begin': 1, 'best': 1, 'body': 17, 'boy': 2, 'brand': 6, 'can': 1, 'chance': 1, 'club': 1, 'come': 37, 'conversation': 1, 'crazy': 2, 'dance': 1, 'date': 1, 'day': 6, 'discovering': 6, 'do': 3, 'doing': 2, \"don't\": 2, 'drinking': 1, 'driver': 1, 'eat': 1, 'every': 6, 'falling': 3, 'family': 1, 'fast': 1, 'fill': 2, 'find': 1, 'first': 1, 'follow': 6, 'for': 3, 'friends': 1, 'get': 1, 'girl': 2, 'give': 1, 'go': 2, 'going': 1, 'grab': 2, 'hand': 1, 'handmade': 2, 'heart': 3, 'hours': 2, 'how': 1, 'i': 6, \"i'll\": 1, \"i'm\": 23, 'in': 27, 'is': 5, \"isn't\": 1, 'it': 1, 'jukebox': 1, 'just': 1, 'kiss': 1, 'know': 2, 'last': 3, 'lead': 6, 'leave': 1, 'let': 1, \"let's\": 2, 'like': 10, 'love': 25, 'lover': 1, 'magnet': 3, 'make': 1, 'man': 1, 'may': 2, 'me': 10, 'mind': 2, 'much': 2, 'my': 33, 'new': 6, 'night': 3, 'not': 2, 'now': 11, 'of': 6, 'okay': 1, 'on': 40, 'one': 1, 'our': 1, 'out': 1, 'over': 1, 'place': 1, 'plate': 1, 'play': 1, 'pull': 3, 'push': 3, 'put': 3, 'radio': 1, 'room': 3, 'say': 2, 'shape': 6, 'shots': 1, 'singing': 2, 'slow': 1, 'smell': 3, 'so': 2, 'somebody': 2, 'something': 6, 'sour': 1, 'start': 2, 'stop': 1, 'story': 1, 'sweet': 1, 'table': 1, 'take': 1, 'talk': 4, 'taxi': 1, 'tell': 1, 'that': 2, 'the': 18, 'then': 3, 'thrifty': 1, 'to': 2, 'too': 5, 'trust': 1, 'up': 3, 'van': 1, 'waist': 2, 'want': 2, 'was': 2, 'we': 7, \"we're\": 1, 'week': 1, 'were': 3, 'where': 1, 'with': 22, 'you': 16, 'your': 21}\n",
    "```"
   ]
  },
  {
   "cell_type": "code",
   "execution_count": 297,
   "metadata": {},
   "outputs": [
    {
     "name": "stdout",
     "output_type": "stream",
     "text": [
      "['love', 'conversation', 'every', \"we're\", 'plate', 'sour', 'jukebox', 'now', 'taxi', 'fast', 'bag', 'man', 'push', 'baby', 'going', 'you', \"don't\", 'one', 'mind', 'backseat', 'friends', 'then', 'know', 'take', 'play', 'okay', 'so', 'begin', 'start', 'over', 'body', 'boy', 'just', 'we', 'are', 'girl', 'tell', 'singing', 'drinking', 'put', 'our', 'where', \"i'll\", 'all', \"isn't\", 'make', 'lover', 'get', 'radio', 'give', \"i'm\", 'like', 'can', 'doing', 'with', 'club', 'come', 'it', 'somebody', 'handmade', 'out', 'new', 'room', 'chance', 'follow', 'in', 'may', 'brand', 'that', 'magnet', 'up', 'first', 'and', 'pull', 'of', 'table', 'much', 'last', 'i', 'thrifty', 'grab', 'was', 'driver', 'slow', 'dance', 'the', 'say', 'trust', 'family', 'week', 'date', 'me', 'do', 'waist', 'smell', 'day', 'although', 'your', 'leave', 'want', \"let's\", 'lead', 'at', 'hand', 'how', 'talk', 'not', 'eat', 'falling', 'about', 'story', 'sweet', 'best', 'crazy', 'let', 'too', 'van', 'shots', 'go', 'to', 'a', 'my', 'is', 'place', 'find', 'shape', 'on', 'kiss', 'were', 'night', 'heart', 'for', 'discovering', 'something', 'be', 'bedsheets', 'fill', 'hours', 'stop', 'bar']\n"
     ]
    }
   ],
   "source": [
    "keys = list(word_freq.keys()) # creem la llista anomenada keys amb les keys del diccionari\n",
    "print(keys)"
   ]
  },
  {
   "cell_type": "code",
   "execution_count": 299,
   "metadata": {},
   "outputs": [
    {
     "name": "stdout",
     "output_type": "stream",
     "text": [
      "['a', 'about', 'all', 'although', 'and', 'are', 'at', 'baby', 'backseat', 'bag', 'bar', 'be', 'bedsheets', 'begin', 'best', 'body', 'boy', 'brand', 'can', 'chance', 'club', 'come', 'conversation', 'crazy', 'dance', 'date', 'day', 'discovering', 'do', 'doing', \"don't\", 'drinking', 'driver', 'eat', 'every', 'falling', 'family', 'fast', 'fill', 'find', 'first', 'follow', 'for', 'friends', 'get', 'girl', 'give', 'go', 'going', 'grab', 'hand', 'handmade', 'heart', 'hours', 'how', 'i', \"i'll\", \"i'm\", 'in', 'is', \"isn't\", 'it', 'jukebox', 'just', 'kiss', 'know', 'last', 'lead', 'leave', 'let', \"let's\", 'like', 'love', 'lover', 'magnet', 'make', 'man', 'may', 'me', 'mind', 'much', 'my', 'new', 'night', 'not', 'now', 'of', 'okay', 'on', 'one', 'our', 'out', 'over', 'place', 'plate', 'play', 'pull', 'push', 'put', 'radio', 'room', 'say', 'shape', 'shots', 'singing', 'slow', 'smell', 'so', 'somebody', 'something', 'sour', 'start', 'stop', 'story', 'sweet', 'table', 'take', 'talk', 'taxi', 'tell', 'that', 'the', 'then', 'thrifty', 'to', 'too', 'trust', 'up', 'van', 'waist', 'want', 'was', 'we', \"we're\", 'week', 'were', 'where', 'with', 'you', 'your']\n"
     ]
    }
   ],
   "source": [
    "keys.sort() \n",
    "print(keys)"
   ]
  },
  {
   "cell_type": "code",
   "execution_count": 301,
   "metadata": {},
   "outputs": [
    {
     "name": "stdout",
     "output_type": "stream",
     "text": [
      "{'a': 8, 'about': 1, 'all': 1, 'although': 3, 'and': 23, 'are': 1, 'at': 1, 'baby': 14, 'backseat': 1, 'bag': 1, 'bar': 1, 'be': 16, 'bedsheets': 3, 'begin': 1, 'best': 1, 'body': 17, 'boy': 2, 'brand': 6, 'can': 1, 'chance': 1, 'club': 1, 'come': 37, 'conversation': 1, 'crazy': 2, 'dance': 1, 'date': 1, 'day': 6, 'discovering': 6, 'do': 3, 'doing': 2, \"don't\": 2, 'drinking': 1, 'driver': 1, 'eat': 1, 'every': 6, 'falling': 3, 'family': 1, 'fast': 1, 'fill': 2, 'find': 1, 'first': 1, 'follow': 6, 'for': 3, 'friends': 1, 'get': 1, 'girl': 2, 'give': 1, 'go': 2, 'going': 1, 'grab': 2, 'hand': 1, 'handmade': 2, 'heart': 3, 'hours': 2, 'how': 1, 'i': 6, \"i'll\": 1, \"i'm\": 23, 'in': 27, 'is': 5, \"isn't\": 1, 'it': 1, 'jukebox': 1, 'just': 1, 'kiss': 1, 'know': 2, 'last': 3, 'lead': 6, 'leave': 1, 'let': 1, \"let's\": 2, 'like': 10, 'love': 25, 'lover': 1, 'magnet': 3, 'make': 1, 'man': 1, 'may': 2, 'me': 10, 'mind': 2, 'much': 2, 'my': 33, 'new': 6, 'night': 3, 'not': 2, 'now': 11, 'of': 6, 'okay': 1, 'on': 40, 'one': 1, 'our': 1, 'out': 1, 'over': 1, 'place': 1, 'plate': 1, 'play': 1, 'pull': 3, 'push': 3, 'put': 3, 'radio': 1, 'room': 3, 'say': 2, 'shape': 6, 'shots': 1, 'singing': 2, 'slow': 1, 'smell': 3, 'so': 2, 'somebody': 2, 'something': 6, 'sour': 1, 'start': 2, 'stop': 1, 'story': 1, 'sweet': 1, 'table': 1, 'take': 1, 'talk': 4, 'taxi': 1, 'tell': 1, 'that': 2, 'the': 18, 'then': 3, 'thrifty': 1, 'to': 2, 'too': 5, 'trust': 1, 'up': 3, 'van': 1, 'waist': 2, 'want': 2, 'was': 2, 'we': 7, \"we're\": 1, 'week': 1, 'were': 3, 'where': 1, 'with': 22, 'you': 16, 'your': 21}\n"
     ]
    }
   ],
   "source": [
    "word_freq_2 = {} # creem el nou diccionari\n",
    "\n",
    "for clau in keys: # mitjançant un bucle for cerquem les claus i els valors a word_freq i les anem afegint a word_freq_2\n",
    "    word_freq_2[clau] = word_freq[clau]\n",
    "\n",
    "print(word_freq_2)\n",
    "    "
   ]
  },
  {
   "cell_type": "markdown",
   "metadata": {},
   "source": [
    "#### Ordena los valores de `word_freq` de forma ascendente.\n",
    "\n",
    "Ordenar los valores de un diccionario es más complicado que ordenar las claves porque los valores de un diccionario no son únicos. Por lo tanto, no puedes usar la misma forma en que ordenaste las claves del diccionario para ordenar los valores del diccionario.\n",
    "\n",
    "La forma de ordenar un diccionario por valor es utilizar las funciones `sorted` y `operator.itemgetter`. El siguiente fragmento de código se te proporciona para que lo pruebes. Te dará una lista de tuplas en la que cada tupla contiene la clave y el valor de un elemento del diccionario. Y la lista está ordenada basada en el valor del diccionario ( [referencia](http://thomas-cokelaer.info/blog/2017/12/how-to-sort-a-dictionary-by-values-in-python/)\n",
    ").\n",
    "\n",
    "```python\n",
    "import operator\n",
    "sorted_tups = sorted(word_freq.items(), key=operator.itemgetter(1))\n",
    "print(sorted_tups)\n",
    "```\n",
    "\n",
    "Por lo tanto, los pasos para ordenar `word_freq` por valor son:\n",
    "\n",
    "* Utilizando `sorted` y `operator.itemgetter`, obtén una lista de tuplas de los pares clave-valor del diccionario que está ordenada por el valor.\n",
    "\n",
    "* Crea un diccionario vacío llamado `word_freq2`.\n",
    "\n",
    "* Itera la lista de tuplas. Inserta cada par clave-valor en `word_freq2` como un objeto.\n",
    "\n",
    "Imprime `word_freq2` para confirmar que tu diccionario tiene sus valores ordenados. Tu salida debería ser:\n",
    "\n",
    "```python\n",
    "{'conversation': 1, \"we're\": 1, 'plate': 1, 'sour': 1, 'jukebox': 1, 'taxi': 1, 'fast': 1, 'bag': 1, 'man': 1, 'going': 1, 'one': 1, 'backseat': 1, 'friends': 1, 'take': 1, 'play': 1, 'okay': 1, 'begin': 1, 'over': 1, 'just': 1, 'are': 1, 'tell': 1, 'drinking': 1, 'our': 1, 'where': 1, \"i'll\": 1, 'all': 1, \"isn't\": 1, 'make': 1, 'lover': 1, 'get': 1, 'radio': 1, 'give': 1, 'can': 1, 'club': 1, 'it': 1, 'out': 1, 'chance': 1, 'first': 1, 'table': 1, 'thrifty': 1, 'driver': 1, 'slow': 1, 'dance': 1, 'trust': 1, 'family': 1, 'week': 1, 'date': 1, 'leave': 1, 'at': 1, 'hand': 1, 'how': 1, 'eat': 1, 'about': 1, 'story': 1, 'sweet': 1, 'best': 1, 'let': 1, 'van': 1, 'shots': 1, 'place': 1, 'find': 1, 'kiss': 1, 'stop': 1, 'bar': 1, \"don't\": 2, 'mind': 2, 'know': 2, 'so': 2, 'start': 2, 'boy': 2, 'girl': 2, 'singing': 2, 'doing': 2, 'somebody': 2, 'handmade': 2, 'may': 2, 'that': 2, 'much': 2, 'grab': 2, 'was': 2, 'say': 2, 'waist': 2, 'want': 2, \"let's\": 2, 'not': 2, 'crazy': 2, 'go': 2, 'to': 2, 'fill': 2, 'hours': 2, 'push': 3, 'then': 3, 'put': 3, 'room': 3, 'magnet': 3, 'up': 3, 'pull': 3, 'last': 3, 'do': 3, 'smell': 3, 'although': 3, 'falling': 3, 'were': 3, 'night': 3, 'heart': 3, 'for': 3, 'bedsheets': 3, 'talk': 4, 'too': 5, 'is': 5, 'every': 6, 'new': 6, 'follow': 6, 'brand': 6, 'of': 6, 'i': 6, 'day': 6, 'lead': 6, 'shape': 6, 'discovering': 6, 'something': 6, 'we': 7, 'a': 8, 'like': 10, 'me': 10, 'now': 11, 'baby': 14, 'you': 16, 'be': 16, 'body': 17, 'the': 18, 'your': 21, 'with': 22, \"i'm\": 23, 'and': 23, 'love': 25, 'in': 27, 'my': 33, 'come': 37, 'on': 40}\n",
    "```"
   ]
  },
  {
   "cell_type": "code",
   "execution_count": 303,
   "metadata": {},
   "outputs": [
    {
     "name": "stdout",
     "output_type": "stream",
     "text": [
      "[('conversation', 1), (\"we're\", 1), ('plate', 1), ('sour', 1), ('jukebox', 1), ('taxi', 1), ('fast', 1), ('bag', 1), ('man', 1), ('going', 1), ('one', 1), ('backseat', 1), ('friends', 1), ('take', 1), ('play', 1), ('okay', 1), ('begin', 1), ('over', 1), ('just', 1), ('are', 1), ('tell', 1), ('drinking', 1), ('our', 1), ('where', 1), (\"i'll\", 1), ('all', 1), (\"isn't\", 1), ('make', 1), ('lover', 1), ('get', 1), ('radio', 1), ('give', 1), ('can', 1), ('club', 1), ('it', 1), ('out', 1), ('chance', 1), ('first', 1), ('table', 1), ('thrifty', 1), ('driver', 1), ('slow', 1), ('dance', 1), ('trust', 1), ('family', 1), ('week', 1), ('date', 1), ('leave', 1), ('at', 1), ('hand', 1), ('how', 1), ('eat', 1), ('about', 1), ('story', 1), ('sweet', 1), ('best', 1), ('let', 1), ('van', 1), ('shots', 1), ('place', 1), ('find', 1), ('kiss', 1), ('stop', 1), ('bar', 1), (\"don't\", 2), ('mind', 2), ('know', 2), ('so', 2), ('start', 2), ('boy', 2), ('girl', 2), ('singing', 2), ('doing', 2), ('somebody', 2), ('handmade', 2), ('may', 2), ('that', 2), ('much', 2), ('grab', 2), ('was', 2), ('say', 2), ('waist', 2), ('want', 2), (\"let's\", 2), ('not', 2), ('crazy', 2), ('go', 2), ('to', 2), ('fill', 2), ('hours', 2), ('push', 3), ('then', 3), ('put', 3), ('room', 3), ('magnet', 3), ('up', 3), ('pull', 3), ('last', 3), ('do', 3), ('smell', 3), ('although', 3), ('falling', 3), ('were', 3), ('night', 3), ('heart', 3), ('for', 3), ('bedsheets', 3), ('talk', 4), ('too', 5), ('is', 5), ('every', 6), ('new', 6), ('follow', 6), ('brand', 6), ('of', 6), ('i', 6), ('day', 6), ('lead', 6), ('shape', 6), ('discovering', 6), ('something', 6), ('we', 7), ('a', 8), ('like', 10), ('me', 10), ('now', 11), ('baby', 14), ('you', 16), ('be', 16), ('body', 17), ('the', 18), ('your', 21), ('with', 22), (\"i'm\", 23), ('and', 23), ('love', 25), ('in', 27), ('my', 33), ('come', 37), ('on', 40)]\n"
     ]
    }
   ],
   "source": [
    "import operator\n",
    "sorted_tups = sorted(word_freq.items(), key=operator.itemgetter(1))\n",
    "print(sorted_tups)"
   ]
  },
  {
   "cell_type": "code",
   "execution_count": 327,
   "metadata": {},
   "outputs": [
    {
     "name": "stdout",
     "output_type": "stream",
     "text": [
      "{'conversation': 1, \"we're\": 1, 'plate': 1, 'sour': 1, 'jukebox': 1, 'taxi': 1, 'fast': 1, 'bag': 1, 'man': 1, 'going': 1, 'one': 1, 'backseat': 1, 'friends': 1, 'take': 1, 'play': 1, 'okay': 1, 'begin': 1, 'over': 1, 'just': 1, 'are': 1, 'tell': 1, 'drinking': 1, 'our': 1, 'where': 1, \"i'll\": 1, 'all': 1, \"isn't\": 1, 'make': 1, 'lover': 1, 'get': 1, 'radio': 1, 'give': 1, 'can': 1, 'club': 1, 'it': 1, 'out': 1, 'chance': 1, 'first': 1, 'table': 1, 'thrifty': 1, 'driver': 1, 'slow': 1, 'dance': 1, 'trust': 1, 'family': 1, 'week': 1, 'date': 1, 'leave': 1, 'at': 1, 'hand': 1, 'how': 1, 'eat': 1, 'about': 1, 'story': 1, 'sweet': 1, 'best': 1, 'let': 1, 'van': 1, 'shots': 1, 'place': 1, 'find': 1, 'kiss': 1, 'stop': 1, 'bar': 1, \"don't\": 2, 'mind': 2, 'know': 2, 'so': 2, 'start': 2, 'boy': 2, 'girl': 2, 'singing': 2, 'doing': 2, 'somebody': 2, 'handmade': 2, 'may': 2, 'that': 2, 'much': 2, 'grab': 2, 'was': 2, 'say': 2, 'waist': 2, 'want': 2, \"let's\": 2, 'not': 2, 'crazy': 2, 'go': 2, 'to': 2, 'fill': 2, 'hours': 2, 'push': 3, 'then': 3, 'put': 3, 'room': 3, 'magnet': 3, 'up': 3, 'pull': 3, 'last': 3, 'do': 3, 'smell': 3, 'although': 3, 'falling': 3, 'were': 3, 'night': 3, 'heart': 3, 'for': 3, 'bedsheets': 3, 'talk': 4, 'too': 5, 'is': 5, 'every': 6, 'new': 6, 'follow': 6, 'brand': 6, 'of': 6, 'i': 6, 'day': 6, 'lead': 6, 'shape': 6, 'discovering': 6, 'something': 6, 'we': 7, 'a': 8, 'like': 10, 'me': 10, 'now': 11, 'baby': 14, 'you': 16, 'be': 16, 'body': 17, 'the': 18, 'your': 21, 'with': 22, \"i'm\": 23, 'and': 23, 'love': 25, 'in': 27, 'my': 33, 'come': 37, 'on': 40}\n"
     ]
    }
   ],
   "source": [
    "word_freq_3 = {}\n",
    "\n",
    "for clau, valor in sorted_tups: # mitjançant un bucle for anem afegint el contingut de les tuples (clau,valor) al nou diccionari\n",
    "    word_freq_3[clau] = valor\n",
    "\n",
    "print(word_freq_3)"
   ]
  }
 ],
 "metadata": {
  "kernelspec": {
   "display_name": "Python 3 (ipykernel)",
   "language": "python",
   "name": "python3"
  },
  "language_info": {
   "codemirror_mode": {
    "name": "ipython",
    "version": 3
   },
   "file_extension": ".py",
   "mimetype": "text/x-python",
   "name": "python",
   "nbconvert_exporter": "python",
   "pygments_lexer": "ipython3",
   "version": "3.12.4"
  },
  "vscode": {
   "interpreter": {
    "hash": "aee8b7b246df8f9039afb4144a1f6fd8d2ca17a180786b69acc140d282b71a49"
   }
  }
 },
 "nbformat": 4,
 "nbformat_minor": 4
}
